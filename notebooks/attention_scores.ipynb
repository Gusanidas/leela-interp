{
 "cells": [
  {
   "cell_type": "code",
   "execution_count": null,
   "metadata": {},
   "outputs": [],
   "source": []
  },
  {
   "cell_type": "code",
   "execution_count": 1,
   "metadata": {},
   "outputs": [],
   "source": [
    "import time\n",
    "import pickle\n",
    "import random\n",
    "from pathlib import Path\n",
    "import pandas as pd\n",
    "from functools import partial\n",
    "\n",
    "import chess\n",
    "import iceberg as ice\n",
    "import matplotlib.pyplot as plt\n",
    "import numpy as np\n",
    "import torch\n",
    "from leela_interp import Lc0Model, Lc0sight, LeelaBoard\n",
    "from leela_interp.core.iceberg_board import palette\n",
    "from leela_interp.tools import figure_helpers as fh\n",
    "from leela_interp.tools.piece_movement_heads import (\n",
    "    bishop_heads,\n",
    "    knight_heads,\n",
    "    rook_heads,\n",
    ")\n",
    "from leela_interp.tools.attention import attention_attribution, top_k_attributions\n",
    "\n",
    "device = \"mps\""
   ]
  },
  {
   "cell_type": "code",
   "execution_count": 2,
   "metadata": {},
   "outputs": [
    {
     "name": "stderr",
     "output_type": "stream",
     "text": [
      "/var/folders/t5/16bd1ql118bdgqcpg58mvcyc0000gn/T/ipykernel_18610/1060940108.py:1: FutureWarning: You are using `torch.load` with `weights_only=False` (the current default value), which uses the default pickle module implicitly. It is possible to construct malicious pickle data which will execute arbitrary code during unpickling (See https://github.com/pytorch/pytorch/blob/main/SECURITY.md#untrusted-models for more details). In a future release, the default value for `weights_only` will be flipped to `True`. This limits the functions that could be executed during unpickling. Arbitrary objects will no longer be allowed to be loaded via this mode unless they are explicitly allowlisted by the user via `torch.serialization.add_safe_globals`. We recommend you start setting `weights_only=True` for any use case where you don't have full control of the loaded file. Please open an issue on GitHub for any issues related to this experimental feature.\n",
      "  all_effects = torch.load(\n"
     ]
    },
    {
     "data": {
      "text/plain": [
       "torch.Size([12000, 64, 64])"
      ]
     },
     "execution_count": 2,
     "metadata": {},
     "output_type": "execute_result"
    }
   ],
   "source": [
    "all_effects = torch.load(\n",
    "    \"../results/move_trees/L12H12/attention_pattern_post_softmax.pt\", map_location=device\n",
    ")\n",
    "all_effects.shape"
   ]
  },
  {
   "cell_type": "code",
   "execution_count": 3,
   "metadata": {},
   "outputs": [
    {
     "name": "stdout",
     "output_type": "stream",
     "text": [
      "len of puzzles = 12000\n"
     ]
    }
   ],
   "source": [
    "with open(\"../puzzles_with_move_trees_and_tags.pkl\", \"rb\") as f:\n",
    "    puzzles = pickle.load(f)\n",
    "print(f\"len of puzzles = {len(puzzles)}\")"
   ]
  },
  {
   "cell_type": "code",
   "execution_count": 4,
   "metadata": {},
   "outputs": [
    {
     "name": "stdout",
     "output_type": "stream",
     "text": [
      "Using device: mps\n"
     ]
    }
   ],
   "source": [
    "model = Lc0sight(\"../lc0.onnx\", device=device)"
   ]
  },
  {
   "cell_type": "code",
   "execution_count": 5,
   "metadata": {},
   "outputs": [],
   "source": [
    "def get_top_k_scores(board: LeelaBoard, tensor: torch.Tensor, k: int = 5) -> list[str]:\n",
    "    \n",
    "    flat_tensor = tensor.view(-1)\n",
    "    top_k_indices = torch.topk(flat_tensor, k=k).indices\n",
    "    \n",
    "    top_k_2d_indices = [(idx // 64, idx % 64) for idx in top_k_indices.tolist()]\n",
    "    top_k_2d_moves = [(board.idx2sq(i), board.idx2sq(j)) for i, j in top_k_2d_indices]\n",
    "    \n",
    "    return top_k_2d_moves, top_k_2d_indices"
   ]
  },
  {
   "cell_type": "code",
   "execution_count": 6,
   "metadata": {},
   "outputs": [],
   "source": [
    "def count_top_k(puzzles: pd.DataFrame, get_focus_squares, k=5):\n",
    "    total = 0\n",
    "    correct = 0\n",
    "    for (idx, puzzle) in puzzles.iterrows():\n",
    "        focus_squares = get_focus_squares(puzzle)\n",
    "        if focus_squares is None:\n",
    "            continue\n",
    "        board = LeelaBoard.from_puzzle(puzzle)\n",
    "        residual_effects_idx = puzzle.residual_effects_idx\n",
    "        tensor = all_effects[residual_effects_idx]\n",
    "        top_k_scores, _ = get_top_k_scores(board, tensor, k=k)\n",
    "        if focus_squares in top_k_scores:\n",
    "            correct += 1\n",
    "        total += 1\n",
    "    return total, correct"
   ]
  },
  {
   "cell_type": "code",
   "execution_count": 7,
   "metadata": {},
   "outputs": [],
   "source": [
    "def tgt2tgt(puzzle, query_move, key_move):\n",
    "    move1 = puzzle.move_tree.get(query_move, None)\n",
    "    move2 = puzzle.move_tree.get(key_move, None)\n",
    "    if move1 is None or move2 is None:\n",
    "        return None\n",
    "    return (move1[2:4], move2[2:4])"
   ]
  },
  {
   "cell_type": "code",
   "execution_count": 8,
   "metadata": {},
   "outputs": [
    {
     "data": {
      "text/plain": [
       "(12000, 3366)"
      ]
     },
     "execution_count": 8,
     "metadata": {},
     "output_type": "execute_result"
    }
   ],
   "source": [
    "third_move_tgt2first_move_tgt = partial(tgt2tgt, query_move=\"0\", key_move=\"000\")\n",
    "count_top_k(puzzles, third_move_tgt2first_move_tgt, k=1)"
   ]
  },
  {
   "cell_type": "code",
   "execution_count": 9,
   "metadata": {},
   "outputs": [
    {
     "name": "stdout",
     "output_type": "stream",
     "text": [
      "len of filtered_puzzles = 6000\n"
     ]
    }
   ],
   "source": [
    "threshold = puzzles[\"effects_000_tgt\"].quantile(0.5)\n",
    "filtered_puzzles = puzzles[puzzles[\"effects_000_tgt\"] > threshold]\n",
    "print(f\"len of filtered_puzzles = {len(filtered_puzzles)}\")"
   ]
  },
  {
   "cell_type": "code",
   "execution_count": 10,
   "metadata": {},
   "outputs": [
    {
     "data": {
      "text/plain": [
       "(6000, 2445)"
      ]
     },
     "execution_count": 10,
     "metadata": {},
     "output_type": "execute_result"
    }
   ],
   "source": [
    "count_top_k(filtered_puzzles, third_move_tgt2first_move_tgt, k=1)"
   ]
  },
  {
   "cell_type": "code",
   "execution_count": 22,
   "metadata": {},
   "outputs": [
    {
     "data": {
      "text/plain": [
       "(4444, 487)"
      ]
     },
     "execution_count": 22,
     "metadata": {},
     "output_type": "execute_result"
    }
   ],
   "source": [
    "move00000_move0 = partial(tgt2tgt,query_move=\"0\", key_move=\"00000\")\n",
    "move010_move0 = partial(tgt2tgt,query_move=\"0\", key_move=\"010\")\n",
    "filtered_puzzles = puzzles[puzzles[\"effects_00000_tgt\"] > 0]\n",
    "count_top_k(filtered_puzzles, move00000_move0, k=1)"
   ]
  },
  {
   "cell_type": "code",
   "execution_count": 34,
   "metadata": {},
   "outputs": [
    {
     "data": {
      "text/plain": [
       "(360, 135)"
      ]
     },
     "execution_count": 34,
     "metadata": {},
     "output_type": "execute_result"
    }
   ],
   "source": [
    "move00000_move0 = partial(tgt2tgt,query_move=\"0\", key_move=\"00000\")\n",
    "move010_move0 = partial(tgt2tgt,query_move=\"0\", key_move=\"010\")\n",
    "threshold = puzzles[\"effects_00000_tgt\"].quantile(0.97)\n",
    "filtered_puzzles = puzzles[puzzles[\"effects_00000_tgt\"] > threshold]\n",
    "count_top_k(filtered_puzzles, move00000_move0, k=1)"
   ]
  },
  {
   "cell_type": "code",
   "execution_count": 23,
   "metadata": {},
   "outputs": [
    {
     "data": {
      "text/plain": [
       "(2597, 224)"
      ]
     },
     "execution_count": 23,
     "metadata": {},
     "output_type": "execute_result"
    }
   ],
   "source": [
    "move00000_move0 = partial(tgt2tgt,query_move=\"0\", key_move=\"00000\")\n",
    "move010_move0 = partial(tgt2tgt,query_move=\"0\", key_move=\"010\")\n",
    "filtered_puzzles = puzzles[puzzles[\"effects_010_tgt\"] > 0]\n",
    "filtered_puzzles = filtered_puzzles[filtered_puzzles[\"move_tree\"].apply(lambda x: \"010\" in x and \"000\" in x and x[\"000\"][2:4] != x[\"010\"][2:4])]\n",
    "count_top_k(filtered_puzzles, move010_move0, k=1)"
   ]
  },
  {
   "cell_type": "code",
   "execution_count": 32,
   "metadata": {},
   "outputs": [
    {
     "data": {
      "text/plain": [
       "(309, 116)"
      ]
     },
     "execution_count": 32,
     "metadata": {},
     "output_type": "execute_result"
    }
   ],
   "source": [
    "move00000_move0 = partial(tgt2tgt,query_move=\"0\", key_move=\"00000\")\n",
    "move010_move0 = partial(tgt2tgt,query_move=\"0\", key_move=\"010\")\n",
    "filtered_puzzles = puzzles[puzzles[\"effects_010_tgt\"] > 0.5]\n",
    "#filtered_puzzles = filtered_puzzles[filtered_puzzles[\"move_tree\"].apply(lambda x: \"010\" in x and \"000\" in x and x[\"000\"][2:4] != x[\"010\"][2:4])]\n",
    "count_top_k(filtered_puzzles, move010_move0, k=1)"
   ]
  },
  {
   "cell_type": "code",
   "execution_count": 12,
   "metadata": {},
   "outputs": [
    {
     "data": {
      "text/plain": [
       "(120, 79)"
      ]
     },
     "execution_count": 12,
     "metadata": {},
     "output_type": "execute_result"
    }
   ],
   "source": [
    "threshold = puzzles[\"effects_00000_tgt\"].quantile(0.99)\n",
    "filtered_puzzles = puzzles[puzzles[\"effects_00000_tgt\"] > threshold]\n",
    "count_top_k(filtered_puzzles, move00000_move0, k=5)"
   ]
  },
  {
   "cell_type": "code",
   "execution_count": 13,
   "metadata": {},
   "outputs": [
    {
     "name": "stdout",
     "output_type": "stream",
     "text": [
      "len of other_puzzles = 89\n",
      "top1_00000 = 8\n",
      "top5_00000 = 13\n",
      "top1_010 = 7\n",
      "top5_010 = 12\n"
     ]
    }
   ],
   "source": [
    "quantile = 0.84\n",
    "threshold_1 = puzzles[\"effects_00000_tgt\"].quantile(quantile)\n",
    "other_puzzles = puzzles[puzzles[\"effects_00000_tgt\"]>=threshold_1]\n",
    "threshold_2 = other_puzzles[\"effects_010_tgt\"].quantile(quantile)\n",
    "other_puzzles = other_puzzles[other_puzzles[\"effects_010_tgt\"]>threshold_2]\n",
    "other_puzzles = other_puzzles[other_puzzles[\"move_tree\"].apply(lambda x: \"010\" in x and \"00000\" in x and x[\"010\"][2:4] != x[\"00000\"][2:4])]\n",
    "print(f\"len of other_puzzles = {len(other_puzzles)}\")\n",
    "\n",
    "_, top1_00000 = count_top_k(other_puzzles, move00000_move0, k=1)\n",
    "_, top5_00000 = count_top_k(other_puzzles, move00000_move0, k=5)\n",
    "_, top1_010 = count_top_k(other_puzzles, move010_move0, k=1)\n",
    "_, top5_010 = count_top_k(other_puzzles, move010_move0, k=5)\n",
    "\n",
    "print(f\"top1_00000 = {top1_00000}\")\n",
    "print(f\"top5_00000 = {top5_00000}\")\n",
    "print(f\"top1_010 = {top1_010}\")\n",
    "print(f\"top5_010 = {top5_010}\")"
   ]
  },
  {
   "cell_type": "code",
   "execution_count": 14,
   "metadata": {},
   "outputs": [
    {
     "name": "stdout",
     "output_type": "stream",
     "text": [
      "length of other_puzzles = 120\n",
      "top1_00000 = 49\n",
      "top5_00000 = 66\n",
      "top1_000 = 29\n",
      "top5_000 = 52\n"
     ]
    }
   ],
   "source": [
    "quantile = 0.9\n",
    "threshold_1 = puzzles[\"effects_00000_tgt\"].quantile(quantile)\n",
    "other_puzzles = puzzles[puzzles[\"effects_00000_tgt\"]>=threshold_1]\n",
    "threshold_2 = other_puzzles[\"effects_000_tgt\"].quantile(quantile)\n",
    "other_puzzles = other_puzzles[other_puzzles[\"effects_000_tgt\"]>threshold_2]\n",
    "print(f\"length of other_puzzles = {len(other_puzzles)}\")\n",
    "\n",
    "_, top1_00000 = count_top_k(other_puzzles, move00000_move0, k=1)\n",
    "_, top5_00000 = count_top_k(other_puzzles, move00000_move0, k=10)\n",
    "_, top1_000 = count_top_k(other_puzzles, third_move_tgt2first_move_tgt, k=1)\n",
    "_, top5_000 = count_top_k(other_puzzles, third_move_tgt2first_move_tgt, k=10)\n",
    "\n",
    "print(f\"top1_00000 = {top1_00000}\")\n",
    "print(f\"top5_00000 = {top5_00000}\")\n",
    "print(f\"top1_000 = {top1_000}\")\n",
    "print(f\"top5_000 = {top5_000}\")\n"
   ]
  },
  {
   "cell_type": "code",
   "execution_count": null,
   "metadata": {},
   "outputs": [],
   "source": []
  }
 ],
 "metadata": {
  "kernelspec": {
   "display_name": "venv",
   "language": "python",
   "name": "python3"
  },
  "language_info": {
   "codemirror_mode": {
    "name": "ipython",
    "version": 3
   },
   "file_extension": ".py",
   "mimetype": "text/x-python",
   "name": "python",
   "nbconvert_exporter": "python",
   "pygments_lexer": "ipython3",
   "version": "3.12.4"
  }
 },
 "nbformat": 4,
 "nbformat_minor": 2
}

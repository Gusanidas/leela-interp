{
 "cells": [
  {
   "cell_type": "code",
   "execution_count": 1,
   "metadata": {},
   "outputs": [],
   "source": [
    "import time\n",
    "import pickle\n",
    "import random\n",
    "from pathlib import Path\n",
    "import pandas as pd\n",
    "from typing import Literal\n",
    "import tqdm\n",
    "from functools import partial\n",
    "\n",
    "\n",
    "import chess\n",
    "import iceberg as ice\n",
    "import matplotlib.pyplot as plt\n",
    "import numpy as np\n",
    "import torch\n",
    "from leela_interp import Lc0Model, Lc0sight, LeelaBoard, ActivationCache\n",
    "from leela_interp.core.iceberg_board import palette\n",
    "from leela_interp.tools import figure_helpers as fh\n",
    "from leela_interp.tools.probing import train_probes, eval_probe_top_k, eval_probe"
   ]
  },
  {
   "cell_type": "code",
   "execution_count": 2,
   "metadata": {},
   "outputs": [],
   "source": [
    "import os\n",
    "os.environ['PATH'] = \"/Library/TeX/texbin:\" + os.environ['PATH']\n",
    "puzzles_second_movement = None"
   ]
  },
  {
   "cell_type": "code",
   "execution_count": 3,
   "metadata": {},
   "outputs": [
    {
     "data": {
      "text/plain": [
       "12000"
      ]
     },
     "execution_count": 3,
     "metadata": {},
     "output_type": "execute_result"
    }
   ],
   "source": [
    "with open(\"../puzzles_with_move_trees_and_tags.pkl\", \"rb\") as f:\n",
    "    puzzles = pickle.load(f)\n",
    "len(puzzles)"
   ]
  },
  {
   "cell_type": "code",
   "execution_count": 4,
   "metadata": {},
   "outputs": [
    {
     "name": "stdout",
     "output_type": "stream",
     "text": [
      "Using device: mps\n",
      "Using device: mps\n"
     ]
    }
   ],
   "source": [
    "random_model = Lc0Model(onnx_model_path=\"../lc0-random.onnx\", device=\"mps\")\n",
    "model = Lc0Model(\"../lc0.onnx\", device=\"mps\")"
   ]
  },
  {
   "cell_type": "code",
   "execution_count": 5,
   "metadata": {},
   "outputs": [],
   "source": [
    "def get_activations(model, puzzles):\n",
    "    activations = ActivationCache.capture(\n",
    "        model=model,\n",
    "        boards=[LeelaBoard.from_puzzle(p) for _, p in puzzles.iterrows()],\n",
    "        # There's a typo in Lc0, so we mirror it; \"rehape\" is deliberate\n",
    "        names=[\"attn_body/ma_gating/rehape2\"]\n",
    "        + [f\"encoder{layer}/ln2\" for layer in range(15)],\n",
    "        n_samples=len(puzzles),\n",
    "        # Uncomment to store activations on disk (they're about 70GB).\n",
    "        # Without a path, they'll be kept in memory, which is faster but uses 70GB of RAM.\n",
    "        #path=\"residual_activations.zarr\",\n",
    "        overwrite=True,\n",
    "        store_boards=True,\n",
    "        batch_size = 128,\n",
    "    )\n",
    "    return activations"
   ]
  },
  {
   "cell_type": "code",
   "execution_count": 6,
   "metadata": {},
   "outputs": [
    {
     "name": "stdout",
     "output_type": "stream",
     "text": [
      "Len puzzles: 2097\n"
     ]
    }
   ],
   "source": [
    "threshold = puzzles[\"effects_010_tgt\"].quantile(0.7)\n",
    "other_puzzles = puzzles[puzzles[\"effects_010_tgt\"] > 0]\n",
    "threshold_2 = other_puzzles[\"effects_00000_tgt\"].quantile(0.7)\n",
    "#other_puzzles = other_puzzles[other_puzzles[\"effects_00000_tgt\"] > 0]\n",
    "other_puzzles = other_puzzles[other_puzzles[\"move_tree\"].apply(lambda x: \"010\" in x and \"00000\" in x and x[\"00000\"][2:4] != x[\"010\"][2:4])]\n",
    "print(f\"Len puzzles: {len(other_puzzles)}\")"
   ]
  },
  {
   "cell_type": "code",
   "execution_count": 7,
   "metadata": {},
   "outputs": [
    {
     "name": "stderr",
     "output_type": "stream",
     "text": [
      "100%|██████████| 40/40 [01:03<00:00,  1.59s/it]"
     ]
    },
    {
     "name": "stdout",
     "output_type": "stream",
     "text": [
      "Captured  n = 5050 activations in 63.9s\n"
     ]
    },
    {
     "name": "stderr",
     "output_type": "stream",
     "text": [
      "\n"
     ]
    }
   ],
   "source": [
    "other_puzzles = other_puzzles[:2050]\n",
    "other_puzzles = puzzles[:5050]\n",
    "n_train = 3500\n",
    "\n",
    "t0 = time.time()\n",
    "activations = get_activations(model, other_puzzles)\n",
    "print(f\"Captured  n = {len(other_puzzles)} activations in {time.time() - t0:.1f}s\")"
   ]
  },
  {
   "cell_type": "code",
   "execution_count": 8,
   "metadata": {},
   "outputs": [],
   "source": [
    "def collect_data(\n",
    "    puzzles: pd.DataFrame,\n",
    "    activations: ActivationCache,\n",
    "    activation_name: str,\n",
    "    prediction_target: Literal[\"target\", \"source\"],\n",
    "    n_train: int,\n",
    "    train=True,\n",
    "    move1 = \"000\",\n",
    "    move2 = \"0\",\n",
    "):\n",
    "    ys = []\n",
    "    z_squares = []\n",
    "    if train:\n",
    "        boards = activations.boards[:n_train]\n",
    "        puzzles = puzzles.iloc[:n_train]\n",
    "    else:\n",
    "        boards = activations.boards[n_train:]\n",
    "        puzzles = puzzles.iloc[n_train:]\n",
    "    idxs = []\n",
    "\n",
    "    for i, (board, (_, puzzle)) in enumerate(zip(boards, puzzles.iterrows())):\n",
    "        assert board.fen() == LeelaBoard.from_puzzle(puzzle).fen()\n",
    "        if puzzle.move_tree.get(move1, None) is None or puzzle.move_tree.get(move2, None) is None:\n",
    "            continue\n",
    "        idxs.append(i)\n",
    "        if prediction_target == \"target\":\n",
    "            y = puzzle.move_tree.get(move1)[2:4]\n",
    "            z = puzzle.move_tree.get(move2)[2:4]\n",
    "        elif prediction_target == \"source\":\n",
    "            y = puzzle.move_tree.get(move1)[:2]\n",
    "            z = puzzle.move_tree.get(move1)[2:4]\n",
    "        ys.append(board.sq2idx(y))\n",
    "        z_squares.append(board.sq2idx(z))\n",
    "\n",
    "    if train:\n",
    "        X = activations[activation_name][:n_train][idxs]\n",
    "    else:\n",
    "        X = activations[activation_name][n_train:][idxs]\n",
    "    assert X.shape[1:] == (64, 768), X.shape\n",
    "\n",
    "    ys = np.array(ys)\n",
    "    z_squares = np.array(z_squares)\n",
    "\n",
    "    return X, ys, z_squares\n",
    "\n",
    "collect_data_1 = partial(collect_data, move1=\"000\", move2=\"0\")\n",
    "collect_data_2 = partial(collect_data, move1=\"100\", move2=\"1\")"
   ]
  },
  {
   "cell_type": "code",
   "execution_count": 9,
   "metadata": {},
   "outputs": [],
   "source": [
    "hparams = {\n",
    "    \"n_epochs\": 5,\n",
    "    \"lr\": 1e-2,\n",
    "    \"weight_decay\": 0,\n",
    "    \"k\": 32,\n",
    "    \"batch_size\": 64,\n",
    "    \"device\": \"mps\",\n",
    "}"
   ]
  },
  {
   "cell_type": "code",
   "execution_count": null,
   "metadata": {},
   "outputs": [],
   "source": []
  },
  {
   "cell_type": "code",
   "execution_count": 10,
   "metadata": {},
   "outputs": [],
   "source": [
    "def eval_probes(target_probes, source_probes, puzzles, activations, n_train, path, collect_data_fn):\n",
    "    accuracies = []\n",
    "    source_accuracies = []\n",
    "    target_accuracies = []\n",
    "    \n",
    "    for layer, target_probe, source_probe in zip(\n",
    "        tqdm.trange(15), target_probes, source_probes\n",
    "    ):\n",
    "        name = f\"encoder{layer}/ln2\"\n",
    "        source_accuracy, target_accuracy, accuracy = eval_probe(\n",
    "            target_probe, source_probe, puzzles, activations, name, n_train, collect_data_fn)\n",
    "        \n",
    "        accuracies.append(accuracy)\n",
    "        source_accuracies.append(source_accuracy)\n",
    "        target_accuracies.append(target_accuracy)\n",
    "    \n",
    "    results_dict = {\n",
    "        \"accuracies\": np.array(accuracies),\n",
    "        \"source_accuracies\": np.array(source_accuracies),\n",
    "        \"target_accuracies\": np.array(target_accuracies),\n",
    "    }\n",
    "    \n",
    "    if path is not None:\n",
    "        with open(path, \"wb\") as f:\n",
    "            pickle.dump(results_dict, f)\n",
    "    \n",
    "    return results_dict\n",
    "\n",
    "def eval_probes_top_k(target_probes, source_probes, puzzles, activations, n_train, path, collect_data_fn, k=1):\n",
    "    accuracies = []\n",
    "    source_accuracies = []\n",
    "    target_accuracies = []\n",
    "    accuracies_top_k = []\n",
    "    source_accuracies_top_k = []\n",
    "    target_accuracies_top_k = []\n",
    "    \n",
    "    for layer, target_probe, source_probe in zip(\n",
    "        tqdm.trange(15), target_probes, source_probes\n",
    "    ):\n",
    "        name = f\"encoder{layer}/ln2\"\n",
    "        results = eval_probe_top_k(\n",
    "            target_probe, source_probe, puzzles, activations, name, n_train, collect_data_fn, k)\n",
    "        \n",
    "        accuracies.append(results['accuracy'])\n",
    "        source_accuracies.append(results['source_accuracy'])\n",
    "        target_accuracies.append(results['target_accuracy'])\n",
    "        accuracies_top_k.append(results['accuracy_top_k'])\n",
    "        source_accuracies_top_k.append(results['source_accuracy_top_k'])\n",
    "        target_accuracies_top_k.append(results['target_accuracy_top_k'])\n",
    "    \n",
    "    results_dict = {\n",
    "        \"accuracies\": np.array(accuracies_top_k),\n",
    "        \"source_accuracies\": np.array(source_accuracies_top_k),\n",
    "        \"target_accuracies\": np.array(target_accuracies_top_k),\n",
    "    }\n",
    "    \n",
    "    if path is not None:\n",
    "        with open(path, \"wb\") as f:\n",
    "            pickle.dump(results_dict, f)\n",
    "    \n",
    "    return results_dict"
   ]
  },
  {
   "cell_type": "code",
   "execution_count": null,
   "metadata": {},
   "outputs": [],
   "source": []
  },
  {
   "cell_type": "code",
   "execution_count": 11,
   "metadata": {},
   "outputs": [
    {
     "name": "stdout",
     "output_type": "stream",
     "text": [
      "Training took 38.70s\n"
     ]
    },
    {
     "name": "stderr",
     "output_type": "stream",
     "text": [
      "100%|██████████| 15/15 [00:10<00:00,  1.50it/s]\n"
     ]
    },
    {
     "name": "stdout",
     "output_type": "stream",
     "text": [
      "total time: 48.73s\n"
     ]
    },
    {
     "name": "stderr",
     "output_type": "stream",
     "text": [
      "100%|██████████| 15/15 [00:09<00:00,  1.50it/s]\n",
      "100%|██████████| 15/15 [00:09<00:00,  1.50it/s]\n",
      "100%|██████████| 15/15 [00:09<00:00,  1.50it/s]\n"
     ]
    }
   ],
   "source": [
    "t0 = time.time()\n",
    "target_probes, source_probes = train_probes(\n",
    "    activations, other_puzzles, n_train, hparams, collect_data_1\n",
    ")\n",
    "print(f\"Training took {time.time() - t0:.2f}s\")\n",
    "results_main_1 = eval_probes_top_k(target_probes, source_probes, other_puzzles, activations, n_train, None, collect_data_1)\n",
    "print(f\"total time: {time.time() - t0:.2f}s\")\n",
    "\n",
    "results_main_2 = eval_probes_top_k(target_probes, source_probes, other_puzzles, activations, n_train, None, collect_data_2)\n",
    "\n",
    "target_probes_2, source_probes_2 = train_probes(\n",
    "    activations, other_puzzles, n_train, hparams, collect_data_2\n",
    ")\n",
    "\n",
    "results_main_3 = eval_probes_top_k(target_probes_2, source_probes_2, other_puzzles, activations, n_train, None, collect_data_2)\n",
    "\n",
    "results_main_4 = eval_probes_top_k(target_probes_2, source_probes_2, other_puzzles, activations, n_train, None, collect_data_1)\n"
   ]
  },
  {
   "cell_type": "code",
   "execution_count": 12,
   "metadata": {},
   "outputs": [],
   "source": [
    "del activations"
   ]
  },
  {
   "cell_type": "code",
   "execution_count": 13,
   "metadata": {},
   "outputs": [
    {
     "name": "stderr",
     "output_type": "stream",
     "text": [
      "100%|██████████| 40/40 [00:59<00:00,  1.49s/it]\n"
     ]
    }
   ],
   "source": [
    "activations_random = get_activations(random_model, other_puzzles)"
   ]
  },
  {
   "cell_type": "code",
   "execution_count": 14,
   "metadata": {},
   "outputs": [
    {
     "name": "stderr",
     "output_type": "stream",
     "text": [
      "100%|██████████| 15/15 [00:10<00:00,  1.50it/s]\n",
      "100%|██████████| 15/15 [00:09<00:00,  1.51it/s]\n",
      "100%|██████████| 15/15 [00:09<00:00,  1.50it/s]\n",
      "100%|██████████| 15/15 [00:09<00:00,  1.51it/s]\n"
     ]
    }
   ],
   "source": [
    "target_probes_random, source_probes_random = train_probes(activations_random, other_puzzles, n_train, hparams, collect_data_1)\n",
    "results_random_1 = eval_probes_top_k(target_probes_random, source_probes_random, other_puzzles, activations_random, n_train, None, collect_data_1)\n",
    "\n",
    "results_random_2 = eval_probes_top_k(target_probes_random, source_probes_random, other_puzzles, activations_random, n_train, None, collect_data_2)\n",
    "\n",
    "target_probes_random_2, source_probes_random_2 = train_probes(activations_random, other_puzzles, n_train, hparams, collect_data_2)\n",
    "results_random_3 = eval_probes_top_k(target_probes_random_2, source_probes_random_2, other_puzzles, activations_random, n_train, None, collect_data_2)\n",
    "results_random_4 = eval_probes_top_k(target_probes_random_2, source_probes_random_2, other_puzzles, activations_random, n_train, None, collect_data_1)"
   ]
  },
  {
   "cell_type": "code",
   "execution_count": 15,
   "metadata": {},
   "outputs": [],
   "source": [
    "del activations_random"
   ]
  },
  {
   "cell_type": "code",
   "execution_count": 16,
   "metadata": {},
   "outputs": [],
   "source": [
    "SETTING_TO_PRETTY_NAME = {\n",
    "    \"main\": \"Probe on trained model\",\n",
    "    \"random_model\": \"Probe on random model\",\n",
    "}\n",
    "\n",
    "\n",
    "def plot_probe_results(results_main, results_random_model, split=\"all\", title=\"Third move prediction\", save_path=None):\n",
    "    fh.set(fast=False)\n",
    "    fig, ax = plt.subplots(figsize=(fh.HALF_WIDTH, 2))\n",
    "    for i, setting in enumerate([\"main\", \"random_model\"]):\n",
    "        results = np.zeros((15, 5))\n",
    "        for j in range(5):\n",
    "            if setting == \"main\":\n",
    "                results[:,j] = results_main[\"accuracies\"]\n",
    "            elif setting == \"random_model\":\n",
    "                results[:,j] = results_random_model[\"accuracies\"]\n",
    "        \n",
    "        means = results.mean(1)\n",
    "        squared_seed_errors = results.var(1) / results.shape[1]\n",
    "        # Size of the eval dataset is 30% of all puzzles\n",
    "        squared_acc_errors = means * (1 - means) / (0.3 * len(puzzles))\n",
    "        # 2 sigma errors\n",
    "        errors = 2 * np.sqrt(squared_seed_errors + squared_acc_errors)\n",
    "        max_layer = means.argmax()\n",
    "        print(\n",
    "            f\"Max accuracy ({setting}, L{max_layer}): {means[max_layer]:.2f} +- {errors[max_layer]:.2f}\"\n",
    "        )\n",
    "        ax.plot(\n",
    "            means,\n",
    "            label=SETTING_TO_PRETTY_NAME[setting],\n",
    "            color=fh.COLORS[i],\n",
    "            linewidth=fh.LINE_WIDTH,\n",
    "        )\n",
    "        ax.fill_between(\n",
    "            range(15),\n",
    "            means - errors,\n",
    "            means + errors,\n",
    "            color=fh.COLORS[i],\n",
    "            alpha=fh.ERROR_ALPHA,\n",
    "            linewidth=0,\n",
    "        )\n",
    "    ax.set_title(title)\n",
    "    ax.set_xlabel(\"Layer\")\n",
    "    ax.set_ylabel(\"Accuracy\")\n",
    "    ax.legend()\n",
    "    ax.set_ylim(0, 1.0)\n",
    "    ax.set_xlim(0, 14)\n",
    "    ax.spines[:].set_visible(False)\n",
    "    ax.set_facecolor(fh.PLOT_FACE_COLOR)\n",
    "    ax.grid(linestyle=\"--\")\n",
    "    ax.grid(which=\"minor\", alpha=0.3, linestyle=\"--\")\n",
    "\n",
    "    if save_path is not None:\n",
    "        fh.save(save_path, fig)\n",
    "    \n",
    "    return fig, ax"
   ]
  },
  {
   "cell_type": "code",
   "execution_count": 17,
   "metadata": {},
   "outputs": [
    {
     "name": "stdout",
     "output_type": "stream",
     "text": [
      "Max accuracy (main, L12): 0.84 +- 0.01\n",
      "Max accuracy (random_model, L9): 0.20 +- 0.01\n"
     ]
    },
    {
     "data": {
      "text/plain": [
       "(<Figure size 258.55x200 with 1 Axes>,\n",
       " <Axes: title={'center': 'Fifth move prediction'}, xlabel='Layer', ylabel='Accuracy'>)"
      ]
     },
     "execution_count": 17,
     "metadata": {},
     "output_type": "execute_result"
    },
    {
     "data": {
      "image/png": "[encoded data removed]",
      "text/plain": [
       "<Figure size 258.55x200 with 1 Axes>"
      ]
     },
     "metadata": {},
     "output_type": "display_data"
    }
   ],
   "source": [
    "plot_probe_results(results_main=results_main_1, results_random_model=results_random_1, title=\"Fifth move prediction\")"
   ]
  },
  {
   "cell_type": "code",
   "execution_count": 18,
   "metadata": {},
   "outputs": [
    {
     "name": "stdout",
     "output_type": "stream",
     "text": [
      "Max accuracy (main, L13): 0.08 +- 0.01\n",
      "Max accuracy (random_model, L6): 0.01 +- 0.00\n"
     ]
    },
    {
     "data": {
      "text/plain": [
       "(<Figure size 258.55x200 with 1 Axes>,\n",
       " <Axes: title={'center': 'Fourth move prediction'}, xlabel='Layer', ylabel='Accuracy'>)"
      ]
     },
     "execution_count": 18,
     "metadata": {},
     "output_type": "execute_result"
    },
    {
     "data": {
      "image/png": "[encoded data removed]",
      "text/plain": [
       "<Figure size 258.55x200 with 1 Axes>"
      ]
     },
     "metadata": {},
     "output_type": "display_data"
    }
   ],
   "source": [
    "plot_probe_results(results_main=results_main_2, results_random_model=results_random_2, title=\"Fourth move prediction\")"
   ]
  },
  {
   "cell_type": "code",
   "execution_count": 19,
   "metadata": {},
   "outputs": [
    {
     "name": "stdout",
     "output_type": "stream",
     "text": [
      "Max accuracy (main, L13): 0.24 +- 0.01\n",
      "Max accuracy (random_model, L12): 0.01 +- 0.00\n"
     ]
    },
    {
     "data": {
      "text/plain": [
       "(<Figure size 258.55x200 with 1 Axes>,\n",
       " <Axes: title={'center': 'Alternative third move prediction'}, xlabel='Layer', ylabel='Accuracy'>)"
      ]
     },
     "execution_count": 19,
     "metadata": {},
     "output_type": "execute_result"
    },
    {
     "data": {
      "image/png": "[encoded data removed]",
      "text/plain": [
       "<Figure size 258.55x200 with 1 Axes>"
      ]
     },
     "metadata": {},
     "output_type": "display_data"
    }
   ],
   "source": [
    "plot_probe_results(results_main=results_main_3, results_random_model=results_random_3, title=\"100 - Alternative third move prediction\", save_path=\"100_alternative_third_move_prediction\")"
   ]
  },
  {
   "cell_type": "code",
   "execution_count": 20,
   "metadata": {},
   "outputs": [
    {
     "name": "stdout",
     "output_type": "stream",
     "text": [
      "Max accuracy (main, L11): 0.28 +- 0.01\n",
      "Max accuracy (random_model, L9): 0.01 +- 0.00\n"
     ]
    },
    {
     "data": {
      "text/plain": [
       "(<Figure size 258.55x200 with 1 Axes>,\n",
       " <Axes: title={'center': 'Third move prediction'}, xlabel='Layer', ylabel='Accuracy'>)"
      ]
     },
     "execution_count": 20,
     "metadata": {},
     "output_type": "execute_result"
    },
    {
     "data": {
      "image/png": "[encoded data removed]",
      "text/plain": [
       "<Figure size 258.55x200 with 1 Axes>"
      ]
     },
     "metadata": {},
     "output_type": "display_data"
    }
   ],
   "source": [
    "plot_probe_results(results_main=results_main_4, results_random_model=results_random_4, title=\"100 probe, 000 evaluation\", save_path=\"100_probe_000_evaluation.png\")"
   ]
  },
  {
   "cell_type": "code",
   "execution_count": 21,
   "metadata": {},
   "outputs": [
    {
     "name": "stdout",
     "output_type": "stream",
     "text": [
      "caramelitodromo\n"
     ]
    }
   ],
   "source": [
    "print(f\"caramelitodromo\")"
   ]
  },
  {
   "cell_type": "code",
   "execution_count": null,
   "metadata": {},
   "outputs": [],
   "source": []
  },
  {
   "cell_type": "code",
   "execution_count": null,
   "metadata": {},
   "outputs": [],
   "source": []
  }
 ],
 "metadata": {
  "kernelspec": {
   "display_name": "venv",
   "language": "python",
   "name": "python3"
  },
  "language_info": {
   "codemirror_mode": {
    "name": "ipython",
    "version": 3
   },
   "file_extension": ".py",
   "mimetype": "text/x-python",
   "name": "python",
   "nbconvert_exporter": "python",
   "pygments_lexer": "ipython3",
   "version": "3.12.4"
  }
 },
 "nbformat": 4,
 "nbformat_minor": 2
}

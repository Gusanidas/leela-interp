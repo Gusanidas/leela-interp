{
 "cells": [
  {
   "cell_type": "code",
   "execution_count": null,
   "metadata": {},
   "outputs": [],
   "source": []
  },
  {
   "cell_type": "code",
   "execution_count": 1,
   "metadata": {},
   "outputs": [],
   "source": [
    "import os\n",
    "os.environ['PATH'] = \"/Library/TeX/texbin:\" + os.environ['PATH']\n",
    "puzzles_second_movement = None"
   ]
  },
  {
   "cell_type": "code",
   "execution_count": 190,
   "metadata": {},
   "outputs": [],
   "source": [
    "import pickle\n",
    "import random\n",
    "from pathlib import Path\n",
    "import colorsys\n",
    "\n",
    "import chess\n",
    "import iceberg as ice\n",
    "import matplotlib.pyplot as plt\n",
    "import numpy as np\n",
    "import torch\n",
    "from leela_interp import Lc0Model, Lc0sight, LeelaBoard\n",
    "from leela_interp.core.iceberg_board import palette\n",
    "from leela_interp.tools import figure_helpers as fh\n",
    "from leela_interp.tools.piece_movement_heads import (\n",
    "    bishop_heads,\n",
    "    knight_heads,\n",
    "    rook_heads,\n",
    ")\n"
   ]
  },
  {
   "cell_type": "code",
   "execution_count": 142,
   "metadata": {},
   "outputs": [
    {
     "name": "stdout",
     "output_type": "stream",
     "text": [
      "len of puzzles = 12000\n"
     ]
    }
   ],
   "source": [
    "with open(\"../puzzles_with_move_trees_and_tags.pkl\", \"rb\") as f:\n",
    "    puzzles = pickle.load(f)\n",
    "print(f\"len of puzzles = {len(puzzles)}\")\n",
    "device = \"mps\""
   ]
  },
  {
   "cell_type": "code",
   "execution_count": 15,
   "metadata": {},
   "outputs": [
    {
     "name": "stdout",
     "output_type": "stream",
     "text": [
      "Using device: cpu\n",
      "Using device: cpu\n"
     ]
    }
   ],
   "source": [
    "small_model = Lc0Model(\"../LD2.onnx\", device=\"cpu\")\n",
    "model = Lc0Model(\"../lc0.onnx\", device=\"cpu\")"
   ]
  },
  {
   "cell_type": "code",
   "execution_count": 16,
   "metadata": {},
   "outputs": [
    {
     "name": "stderr",
     "output_type": "stream",
     "text": [
      "/var/folders/t5/16bd1ql118bdgqcpg58mvcyc0000gn/T/ipykernel_48075/1627866413.py:1: FutureWarning: You are using `torch.load` with `weights_only=False` (the current default value), which uses the default pickle module implicitly. It is possible to construct malicious pickle data which will execute arbitrary code during unpickling (See https://github.com/pytorch/pytorch/blob/main/SECURITY.md#untrusted-models for more details). In a future release, the default value for `weights_only` will be flipped to `True`. This limits the functions that could be executed during unpickling. Arbitrary objects will no longer be allowed to be loaded via this mode unless they are explicitly allowlisted by the user via `torch.serialization.add_safe_globals`. We recommend you start setting `weights_only=True` for any use case where you don't have full control of the loaded file. Please open an issue on GitHub for any issues related to this experimental feature.\n",
      "  all_effects = -torch.load(\n"
     ]
    },
    {
     "data": {
      "text/plain": [
       "torch.Size([12000, 15, 64])"
      ]
     },
     "execution_count": 16,
     "metadata": {},
     "output_type": "execute_result"
    }
   ],
   "source": [
    "all_effects = -torch.load(\n",
    "    \"../results/move_trees_patching/residual_stream_results.pt\", map_location=device\n",
    ")\n",
    "all_effects.shape"
   ]
  },
  {
   "cell_type": "code",
   "execution_count": 143,
   "metadata": {},
   "outputs": [
    {
     "name": "stdout",
     "output_type": "stream",
     "text": [
      "len of puzzles = 1200\n"
     ]
    },
    {
     "data": {
      "text/plain": [
       "np.int64(100)"
      ]
     },
     "execution_count": 143,
     "metadata": {},
     "output_type": "execute_result"
    }
   ],
   "source": [
    "threshold = puzzles[\"effects_00000_tgt\"].quantile(0.9)\n",
    "other_puzzles = puzzles[puzzles[\"effects_00000_tgt\"]>threshold]\n",
    "print(f\"len of puzzles = {len(other_puzzles)}\")\n",
    "puzzle = puzzles.iloc[100]\n",
    "puzzle.residual_effects_idx"
   ]
  },
  {
   "cell_type": "code",
   "execution_count": 155,
   "metadata": {},
   "outputs": [],
   "source": []
  },
  {
   "cell_type": "code",
   "execution_count": 196,
   "metadata": {},
   "outputs": [],
   "source": [
    "def get_effects_data(puzzles, effects=all_effects, focus_movements=[(\"000\", \"Default\")]):\n",
    "    candidate_effects = []\n",
    "    focus_effects = {move_name: [] for _, move_name in focus_movements}\n",
    "    patching_square_effects = []\n",
    "    other_effects = []\n",
    "    skipped = []\n",
    "    non_skipped = []\n",
    "    \n",
    "    for idx, puzzle in puzzles.iterrows():\n",
    "        i = puzzle.residual_effects_idx\n",
    "        board = LeelaBoard.from_puzzle(puzzle)\n",
    "        corrupted_board = LeelaBoard.from_fen(puzzle.corrupted_fen)\n",
    "        patching_squares = []\n",
    "        for square in chess.SQUARES:\n",
    "            if board.pc_board.piece_at(square) != corrupted_board.pc_board.piece_at(square):\n",
    "                patching_squares.append(chess.SQUARE_NAMES[square])\n",
    "        \n",
    "        candidate_squares = [puzzle.principal_variation[0][2:4]]\n",
    "        focus_squares = []\n",
    "        for move, _ in focus_movements:\n",
    "            focus_squares.extend([puzzle.move_tree.get(move, puzzle.principal_variation[0])[2:4]])\n",
    "        \n",
    "        if (set(patching_squares).intersection(set(candidate_squares)) or\n",
    "            set(patching_squares).intersection(set(focus_squares)) or\n",
    "            set(candidate_squares).intersection(set(focus_squares))):\n",
    "            skipped.append(idx)\n",
    "            continue\n",
    "        \n",
    "        non_skipped.append(idx)\n",
    "        candidate_effects.append(\n",
    "            effects[i, :, [board.sq2idx(square) for square in candidate_squares]]\n",
    "            .amax(-1)\n",
    "            .cpu()\n",
    "            .numpy()\n",
    "        )\n",
    "        \n",
    "        for move, move_name in focus_movements:\n",
    "            focus_square = [puzzle.move_tree.get(move, puzzle.principal_variation[0])[2:4]]\n",
    "            focus_effects[move_name].append(\n",
    "                effects[i, :, [board.sq2idx(square) for square in focus_square]]\n",
    "                .amax(-1)\n",
    "                .cpu()\n",
    "                .numpy()\n",
    "            )\n",
    "        \n",
    "        patching_square_effects.append(\n",
    "            effects[i, :, [board.sq2idx(square) for square in patching_squares]]\n",
    "            .amax(-1)\n",
    "            .cpu()\n",
    "            .numpy()\n",
    "        )\n",
    "        \n",
    "        covered_squares = set(patching_squares + candidate_squares + focus_squares)\n",
    "        other_effects.append(\n",
    "            effects[\n",
    "                i,\n",
    "                :,\n",
    "                [idx for idx in range(64) if board.idx2sq(idx) not in covered_squares],\n",
    "            ]\n",
    "            .amax(-1)\n",
    "            .cpu()\n",
    "            .numpy()\n",
    "        )\n",
    "    \n",
    "    # Print the lengths\n",
    "    print(f\"len of candidate_effects = {len(candidate_effects)}\")\n",
    "    for move_name in focus_effects:\n",
    "        print(f\"len of focus_effects[{move_name}] = {len(focus_effects[move_name])}\")\n",
    "    print(f\"len of patching_square_effects = {len(patching_square_effects)}\")\n",
    "    \n",
    "    candidate_effects = np.stack(candidate_effects)\n",
    "    for move_name in focus_effects:\n",
    "        focus_effects[move_name] = np.stack(focus_effects[move_name])\n",
    "    patching_square_effects = np.stack(patching_square_effects)\n",
    "    other_effects = np.stack(other_effects)\n",
    "    \n",
    "    result = [\n",
    "        {\"effects\": candidate_effects, \"name\": \"1st move target\"},\n",
    "        {\"effects\": patching_square_effects, \"name\": \"Patching square(s)\"},\n",
    "        {\"effects\": other_effects, \"name\": \"Other squares\"},\n",
    "    ]\n",
    "    \n",
    "    for move_name, effects_array in focus_effects.items():\n",
    "        result.insert(1, {\"effects\": effects_array, \"name\": f\"{move_name}\"})\n",
    "    \n",
    "    return result, non_skipped, skipped"
   ]
  },
  {
   "cell_type": "code",
   "execution_count": 200,
   "metadata": {},
   "outputs": [],
   "source": [
    "def generate_colors(n):\n",
    "    HSV_tuples = [(x * 1.0 / n, 0.5, 0.5) for x in range(n)]\n",
    "    RGB_tuples = map(lambda x: colorsys.hsv_to_rgb(*x), HSV_tuples)\n",
    "    return list(RGB_tuples)\n",
    "\n",
    "def plot_residual_effects(puzzles, save_path=None, focus_movements=[(\"000\", \"Default\")], line_width=2.5):\n",
    "    effects_data, _, _ = get_effects_data(puzzles, focus_movements=focus_movements)\n",
    "    fh.set()\n",
    "    layers = list(range(15))\n",
    "    \n",
    "    # Create plots using matplotlib\n",
    "    fig, ax = plt.subplots()\n",
    "    fig.set_figwidth(6)\n",
    "    fig.set_figheight(3)\n",
    "    \n",
    "    # Generate colors based on the number of elements in effects_data\n",
    "    colors = generate_colors(len(effects_data))\n",
    "    line_styles = [\"-\"] * len(effects_data)\n",
    "    \n",
    "    for i, effect_data in enumerate(effects_data):\n",
    "        effects = effect_data[\"effects\"]\n",
    "        mean_effects = np.mean(effects, axis=0)\n",
    "        # 2 sigma error bars\n",
    "        stderr_effects = 2 * np.std(effects, axis=0) / np.sqrt(len(effects))\n",
    "        ax.plot(\n",
    "            layers,\n",
    "            mean_effects,\n",
    "            label=effect_data[\"name\"],\n",
    "            color=colors[i],\n",
    "            linestyle=line_styles[i],\n",
    "            linewidth=line_width,  # Use the new line_width parameter here\n",
    "        )\n",
    "        ax.fill_between(\n",
    "            layers,\n",
    "            mean_effects - stderr_effects,\n",
    "            mean_effects + stderr_effects,\n",
    "            color=colors[i],\n",
    "            alpha=fh.ERROR_ALPHA,\n",
    "        )\n",
    "    \n",
    "    ax.set_xlabel(\"Layer\")\n",
    "    ax.set_ylabel(\"Log odds reduction of correct move\")\n",
    "    _, y_max = ax.get_ylim()\n",
    "    ax.set_ylim(0, y_max)\n",
    "    ax.legend()\n",
    "    ax.spines[[\"right\", \"top\", \"left\"]].set_visible(False)\n",
    "    ax.set_facecolor(fh.PLOT_FACE_COLOR)\n",
    "    \n",
    "    if save_path is not None:\n",
    "        fh.save(save_path, fig)"
   ]
  },
  {
   "cell_type": "code",
   "execution_count": 201,
   "metadata": {},
   "outputs": [
    {
     "name": "stdout",
     "output_type": "stream",
     "text": [
      "len of puzzles = 44\n"
     ]
    }
   ],
   "source": [
    "threshold_1 = puzzles[\"effects_00000_tgt\"].quantile(0.8)\n",
    "other_puzzles = puzzles[puzzles[\"effects_00000_tgt\"]>threshold]\n",
    "threshold_2 = other_puzzles[\"effects_010_tgt\"].quantile(0.8)\n",
    "other_puzzles = other_puzzles[other_puzzles[\"effects_010_tgt\"]>threshold_2]\n",
    "other_puzzles = other_puzzles[other_puzzles[\"move_tree\"].apply(lambda x: \"010\" in x and \"00000\" in x and x[\"010\"][2:4] != x[\"00000\"][2:4])]\n",
    "print(f\"len of puzzles = {len(other_puzzles)}\")\n"
   ]
  },
  {
   "cell_type": "code",
   "execution_count": 202,
   "metadata": {},
   "outputs": [
    {
     "name": "stdout",
     "output_type": "stream",
     "text": [
      "len of candidate_effects = 1\n",
      "len of focus_effects[000] = 1\n",
      "len of focus_effects[010] = 1\n",
      "len of patching_square_effects = 1\n"
     ]
    },
    {
     "data": {
      "image/png": "[encoded data removed]",
      "text/plain": [
       "<Figure size 600x300 with 1 Axes>"
      ]
     },
     "metadata": {},
     "output_type": "display_data"
    }
   ],
   "source": [
    "one_puzzle = other_puzzles.iloc[4].to_frame().T\n",
    "plot_residual_effects(one_puzzle, focus_movements = [(\"000\", \"000\"), (\"010\", \"010\")])"
   ]
  },
  {
   "cell_type": "code",
   "execution_count": 204,
   "metadata": {},
   "outputs": [
    {
     "data": {
      "text/plain": [
       "{'0': 'g3g7',\n",
       " '1': 'd5f7',\n",
       " '2': 'd5d7',\n",
       " '00': 'h7g7',\n",
       " '01': 'h7h8',\n",
       " '10': 'c8g8',\n",
       " '20': 'c8g8',\n",
       " '000': 'd5d7',\n",
       " '001': 'g2g3',\n",
       " '002': 'g2g4',\n",
       " '010': 'd5f7',\n",
       " '100': 'g3g6',\n",
       " '101': 'h3h2',\n",
       " '200': 'd7d5',\n",
       " '0000': 'g7f8',\n",
       " '1000': 'b4c3',\n",
       " '00000': 'd7c8',\n",
       " '10000': 'h3h2'}"
      ]
     },
     "execution_count": 204,
     "metadata": {},
     "output_type": "execute_result"
    }
   ],
   "source": [
    "puzzle = other_puzzles.iloc[1]\n",
    "puzzle.move_tree"
   ]
  },
  {
   "cell_type": "code",
   "execution_count": 205,
   "metadata": {},
   "outputs": [
    {
     "data": {
      "text/plain": [
       "PuzzleId                                                                 0NVfF\n",
       "FEN                           6r1/6pk/5p1p/2pQpP1P/1qPpP3/6RK/6P1/8 b - - 5 45\n",
       "Moves                                            g8c8 g3g7 h7g7 d5d7 g7f8 d7c8\n",
       "Rating                                                                    2049\n",
       "RatingDeviation                                                             74\n",
       "Popularity                                                                  95\n",
       "NbPlays                                                                    956\n",
       "Themes                         attraction crushing endgame fork long sacrifice\n",
       "GameUrl                                  https://lichess.org/A0aVENqu/black#89\n",
       "OpeningTags                                                                NaN\n",
       "principal_variation                             [g3g7, h7g7, d5d7, g7f8, d7c8]\n",
       "full_pv_probs                [0.7234101295471191, 0.9624467492103577, 0.955...\n",
       "full_model_moves                                [g3g7, h7g7, d5d7, g7f8, d7c8]\n",
       "full_wdl                     [0.1513829529285431, 0.8024048805236816, 0.046...\n",
       "sparring_full_pv_probs       [0.02179134450852871, 0.7170091867446899, 0.85...\n",
       "sparring_full_model_moves                       [d5d7, h7g7, d5d7, g7h8, d7c8]\n",
       "sparring_wdl                 [0.009289516136050224, 0.9777680039405823, 0.0...\n",
       "different_targets                                                        False\n",
       "corrupted_fen                 1qr5/6pk/5p1p/2pQpP1P/2PpP3/6RK/6P1/8 w - - 6 46\n",
       "move_tree                    {'0': 'g3g7', '1': 'd5f7', '2': 'd5d7', '00': ...\n",
       "sparring_move_tree           {'0': 'd5d7', '1': 'd5f7', '2': 'h3h2', '00': ...\n",
       "effects_00000_tgt                                                     0.295951\n",
       "effects_000_tgt                                                            0.0\n",
       "effects_001_tgt                                                      -0.011789\n",
       "effects_010_tgt                                                       0.256374\n",
       "effects_00_tgt                                                             0.0\n",
       "effects_100_tgt                                                      -0.047761\n",
       "residual_effects_idx                                                       563\n",
       "Name: 22928, dtype: object"
      ]
     },
     "execution_count": 205,
     "metadata": {},
     "output_type": "execute_result"
    }
   ],
   "source": [
    "puzzle"
   ]
  },
  {
   "cell_type": "code",
   "execution_count": null,
   "metadata": {},
   "outputs": [],
   "source": []
  }
 ],
 "metadata": {
  "kernelspec": {
   "display_name": "venv",
   "language": "python",
   "name": "python3"
  },
  "language_info": {
   "codemirror_mode": {
    "name": "ipython",
    "version": 3
   },
   "file_extension": ".py",
   "mimetype": "text/x-python",
   "name": "python",
   "nbconvert_exporter": "python",
   "pygments_lexer": "ipython3",
   "version": "3.12.4"
  }
 },
 "nbformat": 4,
 "nbformat_minor": 2
}
